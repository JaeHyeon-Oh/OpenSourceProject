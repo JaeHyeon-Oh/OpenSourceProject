{
 "cells": [
  {
   "cell_type": "code",
   "execution_count": 32,
   "id": "08c74f17",
   "metadata": {},
   "outputs": [
    {
     "name": "stderr",
     "output_type": "stream",
     "text": [
      "Some characters could not be decoded, and were replaced with REPLACEMENT CHARACTER.\n"
     ]
    }
   ],
   "source": [
    "from urllib.request import urlopen\n",
    "from io import BytesIO\n",
    "from zipfile import ZipFile\n",
    "import pandas as pd\n",
    "from bs4 import BeautifulSoup\n",
    "import xml.etree.ElementTree as Etree\n",
    "import ssl\n",
    "context = ssl._create_unverified_context()\n",
    "\n",
    "api_key = 'Your key'\n",
    "url_code = 'https://opendart.fss.or.kr/api/corpCode.xml?crtfc_key='+api_key\n",
    "\n",
    "resp = urlopen(url_code, context=context)\n",
    "result = resp.read()#window일 경우\n",
    "#result = resp.read().decode(\"utf-8\") 위 코드가 안되면 사용\n",
    "xmlsoup = BeautifulSoup(result, 'html.parser')\n",
    "\n",
    "with urlopen(url_code, context=context) as zip_response:\n",
    "    with ZipFile(BytesIO(zip_response.read())) as zfile:\n",
    "        zfile.extractall('corpCode')\n",
    "\n",
    "    tree = Etree.parse('corpCode/CORPCODE.xml')\n",
    "root = tree.getroot()\n",
    "\n",
    "corp_df = pd.DataFrame(columns=['corp_code', 'corp_name', 'stock_code', 'modify_date'])\n",
    "\n",
    "for company in root.iter('list'):\n",
    "\n",
    "    stock_code = company.findtext('stock_code')\n",
    "    stock_code = stock_code.strip()\n",
    "\n",
    "    if stock_code:\n",
    "        company_dict = {\n",
    "            'corp_code': company.findtext('corp_code'),\n",
    "            'corp_name': company.findtext('corp_name'),\n",
    "            'stock_code': company.findtext('stock_code'),\n",
    "            'modify_date': company.findtext('modify_date')\n",
    "        }\n",
    "\n",
    "        corp_df = corp_df.append(company_dict, ignore_index=True)\n",
    "\n",
    "corp_df.to_csv('corpCode.csv', encoding='utf-8-sig', index=False)\n",
    "\n",
    "\n",
    "\n"
   ]
  },
  {
   "cell_type": "code",
   "execution_count": 37,
   "id": "991b7ecc",
   "metadata": {},
   "outputs": [
    {
     "name": "stdout",
     "output_type": "stream",
     "text": [
      "Insert the company name: 동양에스텍\n"
     ]
    }
   ],
   "source": [
    "import requests\n",
    "import json\n",
    "import pandas as pd\n",
    "\n",
    "\n",
    "api_key = 'Your key'\n",
    "dart_code_df = pd.read_csv('corpCode.csv', dtype=str)\n",
    "\n",
    "def get_dart_code(item_name, dart_df):\n",
    "    code = dart_df.query(\"corp_name=='{}'\".format(item_name))['corp_code'].to_string().strip(' ')[-8:]\n",
    "    return code\n",
    "\n",
    "def convertFnltt(url, items, item_names, params):\n",
    "    res = requests.get(url, params)\n",
    "    json_dict = json.loads(res.text)\n",
    "    data = []\n",
    "    if json_dict['status'] == \"000\":\n",
    "        for line in json_dict['list']:\n",
    "            data.append([])\n",
    "            for itm in items:\n",
    "                if itm in line.keys(): data[-1].append(line[itm])\n",
    "                else: data[-1].append('')\n",
    "    df = pd.DataFrame(data, columns=item_names)\n",
    "    return df\n",
    "\n",
    "\n",
    "def get_fnlttSinglAcnt(crtfc_key, corp_code, bsns_year, reprt_code):\n",
    "    items = [\"rcept_no\", \"bsns_year\", \"stock_code\", \"reprt_code\", \"account_nm\", \"fs_div\", \"fs_nm\",\"sj_div\",\n",
    "             \"sj_nm\", \"thstrm_nm\", \"thstrm_dt\", \"thstrm_amount\",\"thstrm_add_amount\", \"frmtrm_nm\",\n",
    "             \"frmtrm_dt\", \"frmtrm_amount\",\"frmtrm_add_amount\", \"bfefrmtrm_nm\", \"bfefrmtrm_dt\", \"bfefrmtrm_amount\",\"ord\"]\n",
    "    item_names = [\"접수번호\", \"사업연도\", \"종목코드\", \"보고서코드\", \"계정명\", \"개별연결구분\",\"개별연결명\", \"재무제표구분\",\n",
    "                 \"재무제표명\", \"당기명\", \"당기일자\",\"당기금액\", \"당기누적금액\", \"전기명\", \"전기일자\", \"전기금액\",\n",
    "                 \"전기누적금액\", \"전전기명\", \"전전기일자\", \"전전기금액\", \"계정과목정렬순서\"]\n",
    "    params = {'crtfc_key': crtfc_key, 'corp_code': corp_code, 'bsns_year': bsns_year, 'reprt_code': reprt_code}\n",
    "    url = \"https://opendart.fss.or.kr/api/fnlttSinglAcnt.json\"\n",
    "    return convertFnltt(url, items, item_names, params)\n",
    "\n",
    "\n",
    "target = input('Insert the company name: ')\n",
    "\n",
    "df_orgn = pd.DataFrame()\n",
    "codeList = [11013, 11012, 11014, 11011]#[1분기,2분기,3분기,4분기]\n",
    "\n",
    "for year in range(2017, 2021):#연도 지정\n",
    "    for code in codeList:\n",
    "        df_temp = get_fnlttSinglAcnt(crtfc_key=api_key,\n",
    "                                     corp_code=get_dart_code(target, dart_code_df),\n",
    "                                     bsns_year=year,\n",
    "                                     reprt_code=code)\n",
    "        df_orgn = pd.concat([df_orgn, df_temp])\n",
    "    df_orgn.to_csv(target+'.csv', encoding='utf-8-sig', index=False)"
   ]
  },
  {
   "cell_type": "code",
   "execution_count": null,
   "id": "85c3bcc9",
   "metadata": {},
   "outputs": [],
   "source": [
    "\n",
    "\n"
   ]
  }
 ],
 "metadata": {
  "kernelspec": {
   "display_name": "Python 3",
   "language": "python",
   "name": "python3"
  },
  "language_info": {
   "codemirror_mode": {
    "name": "ipython",
    "version": 3
   },
   "file_extension": ".py",
   "mimetype": "text/x-python",
   "name": "python",
   "nbconvert_exporter": "python",
   "pygments_lexer": "ipython3",
   "version": "3.8.8"
  }
 },
 "nbformat": 4,
 "nbformat_minor": 5
}
